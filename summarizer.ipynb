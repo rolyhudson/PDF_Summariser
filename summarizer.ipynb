{
 "cells": [
  {
   "cell_type": "code",
   "execution_count": 4,
   "metadata": {},
   "outputs": [],
   "source": [
    "import openai\n",
    "from dotenv import load_dotenv\n",
    "import os\n",
    "\n",
    "load_dotenv(\".env\", override=True)\n",
    "openai.api_key = os.getenv('openaiKey')\n",
    "\n",
    "def openai_summary(text):\n",
    "    response = openai.ChatCompletion.create(\n",
    "        model=\"gpt-3.5-turbo\",\n",
    "        messages=[ \n",
    "            {\"role\": \"user\", \"content\": f\"Summarize this: {text}\"},\n",
    "        ],\n",
    "    )\n",
    "    page_summary = response[\"choices\"][0][\"message\"][\"content\"]\n",
    "    return page_summary"
   ]
  },
  {
   "cell_type": "code",
   "execution_count": 2,
   "metadata": {},
   "outputs": [],
   "source": [
    "# importing required modules\n",
    "from PyPDF2 import PdfReader\n",
    "\n",
    "def read_pdf(file):\n",
    "    # creating a pdf reader object\n",
    "    reader = PdfReader(file)\n",
    "    if reader.is_encrypted:\n",
    "        return \"\"\n",
    "    # printing number of pages in pdf file\n",
    "    #print(len(reader.pages))\n",
    "    \n",
    "    # getting a specific page from the pdf file\n",
    "    text = reader.pages[0].extract_text().lower().strip().replace(\"/n\", \" \")\n",
    "    # for page in reader.pages:\n",
    "    #     text += page.extract_text().lower().strip().replace(\"/n\", \" \")\n",
    "    # extracting text from page\n",
    "    \n",
    "    return text"
   ]
  },
  {
   "cell_type": "code",
   "execution_count": null,
   "metadata": {},
   "outputs": [],
   "source": [
    "# import required module\n",
    "import os\n",
    "# assign directory\n",
    "directory = \"//line-fs-01/01_Projects/Research/MachineLearning\"\n",
    " \n",
    "# iterate over files in\n",
    "# that directory\n",
    "for filename in os.listdir(directory):\n",
    "    \n",
    "    f = os.path.join(directory, filename)\n",
    "    # checking if it is a file\n",
    "    if os.path.isfile(f):\n",
    "        print(f)\n",
    "        #text = ' '.join()\n",
    "        print(openai_summary(read_pdf(f)))"
   ]
  },
  {
   "cell_type": "code",
   "execution_count": 5,
   "metadata": {},
   "outputs": [
    {
     "name": "stdout",
     "output_type": "stream",
     "text": [
      "The article presents the implementation of a problem-solving mechanism (using AI techniques) into a virtual environment, specifically using the Unreal engine. The authors discuss the benefits of using games engines in particular as an interface to the problem-solving mechanism. They describe a prototype application that allows direct manipulation of virtual objects to create input configurations for the planning system, which are then analyzed and displayed in the virtual environment. The article highlights the use of constraint logic programming over finite domains (CLP(fd)) as a software technology for the problem-solving mechanism.\n"
     ]
    }
   ],
   "source": [
    "t = read_pdf(\"//line-fs-01/01_Projects/Research/MachineLearning/2001_UsingGameEnginesForVirtualEnv.pdf\")\n",
    "print(openai_summary(t))"
   ]
  }
 ],
 "metadata": {
  "kernelspec": {
   "display_name": "env",
   "language": "python",
   "name": "python3"
  },
  "language_info": {
   "codemirror_mode": {
    "name": "ipython",
    "version": 3
   },
   "file_extension": ".py",
   "mimetype": "text/x-python",
   "name": "python",
   "nbconvert_exporter": "python",
   "pygments_lexer": "ipython3",
   "version": "3.10.6"
  },
  "orig_nbformat": 4
 },
 "nbformat": 4,
 "nbformat_minor": 2
}
